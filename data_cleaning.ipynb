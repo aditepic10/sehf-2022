{
 "cells": [
  {
   "cell_type": "code",
   "execution_count": 1,
   "metadata": {},
   "outputs": [],
   "source": [
    "import pandas as pd\n",
    "import numpy as np\n",
    "import datetime as datetime"
   ]
  },
  {
   "cell_type": "markdown",
   "metadata": {},
   "source": [
    "Done importing"
   ]
  },
  {
   "cell_type": "code",
   "execution_count": 3,
   "metadata": {},
   "outputs": [
    {
     "data": {
      "text/html": [
       "<div>\n",
       "<style scoped>\n",
       "    .dataframe tbody tr th:only-of-type {\n",
       "        vertical-align: middle;\n",
       "    }\n",
       "\n",
       "    .dataframe tbody tr th {\n",
       "        vertical-align: top;\n",
       "    }\n",
       "\n",
       "    .dataframe thead th {\n",
       "        text-align: right;\n",
       "    }\n",
       "</style>\n",
       "<table border=\"1\" class=\"dataframe\">\n",
       "  <thead>\n",
       "    <tr style=\"text-align: right;\">\n",
       "      <th></th>\n",
       "      <th>Time Interval</th>\n",
       "      <th>Close</th>\n",
       "      <th>Net Chg</th>\n",
       "      <th>Open</th>\n",
       "      <th>High</th>\n",
       "      <th>Low</th>\n",
       "      <th>Tick Count</th>\n",
       "      <th>Volume</th>\n",
       "    </tr>\n",
       "  </thead>\n",
       "  <tbody>\n",
       "    <tr>\n",
       "      <th>0</th>\n",
       "      <td>Summary</td>\n",
       "      <td>267.04</td>\n",
       "      <td>-37.84</td>\n",
       "      <td>313.92</td>\n",
       "      <td>338.40</td>\n",
       "      <td>232.16</td>\n",
       "      <td>5659102.0</td>\n",
       "      <td>247401824</td>\n",
       "    </tr>\n",
       "    <tr>\n",
       "      <th>1</th>\n",
       "      <td>03JAN2012_00:00:00.000000</td>\n",
       "      <td>NaN</td>\n",
       "      <td>NaN</td>\n",
       "      <td>NaN</td>\n",
       "      <td>NaN</td>\n",
       "      <td>NaN</td>\n",
       "      <td>NaN</td>\n",
       "      <td>NaN</td>\n",
       "    </tr>\n",
       "    <tr>\n",
       "      <th>2</th>\n",
       "      <td>09:30 - 10:00</td>\n",
       "      <td>315.84</td>\n",
       "      <td>10.96</td>\n",
       "      <td>313.92</td>\n",
       "      <td>316.56</td>\n",
       "      <td>313.92</td>\n",
       "      <td>4153.0</td>\n",
       "      <td>214532</td>\n",
       "    </tr>\n",
       "    <tr>\n",
       "      <th>3</th>\n",
       "      <td>10:00 - 10:30</td>\n",
       "      <td>316.24</td>\n",
       "      <td>0.40</td>\n",
       "      <td>315.84</td>\n",
       "      <td>316.88</td>\n",
       "      <td>315.68</td>\n",
       "      <td>3300.0</td>\n",
       "      <td>142334</td>\n",
       "    </tr>\n",
       "    <tr>\n",
       "      <th>4</th>\n",
       "      <td>10:30 - 11:00</td>\n",
       "      <td>315.76</td>\n",
       "      <td>-0.48</td>\n",
       "      <td>316.32</td>\n",
       "      <td>317.04</td>\n",
       "      <td>315.52</td>\n",
       "      <td>3308.0</td>\n",
       "      <td>125102</td>\n",
       "    </tr>\n",
       "  </tbody>\n",
       "</table>\n",
       "</div>"
      ],
      "text/plain": [
       "               Time Interval   Close  Net Chg    Open    High     Low  \\\n",
       "0                    Summary  267.04   -37.84  313.92  338.40  232.16   \n",
       "1  03JAN2012_00:00:00.000000     NaN      NaN     NaN     NaN     NaN   \n",
       "2              09:30 - 10:00  315.84    10.96  313.92  316.56  313.92   \n",
       "3              10:00 - 10:30  316.24     0.40  315.84  316.88  315.68   \n",
       "4              10:30 - 11:00  315.76    -0.48  316.32  317.04  315.52   \n",
       "\n",
       "   Tick Count     Volume  \n",
       "0   5659102.0  247401824  \n",
       "1         NaN        NaN  \n",
       "2      4153.0     214532  \n",
       "3      3300.0     142334  \n",
       "4      3308.0     125102  "
      ]
     },
     "execution_count": 3,
     "metadata": {},
     "output_type": "execute_result"
    }
   ],
   "source": [
    "prices_df = pd.read_excel('USO_Historical_Data_30_Minute.xlsx', sheet_name = \"Jan 2012\", index_col=False)\n",
    "prices_df.head()"
   ]
  },
  {
   "cell_type": "code",
   "execution_count": 55,
   "metadata": {},
   "outputs": [
    {
     "ename": "NameError",
     "evalue": "name 'open_df' is not defined",
     "output_type": "error",
     "traceback": [
      "\u001b[1;31m---------------------------------------------------------------------------\u001b[0m",
      "\u001b[1;31mNameError\u001b[0m                                 Traceback (most recent call last)",
      "\u001b[1;32mc:\\Users\\micha\\OneDrive - The University of Texas at Austin\\sehf_bt\\data_cleaning.ipynb Cell 4'\u001b[0m in \u001b[0;36m<module>\u001b[1;34m\u001b[0m\n\u001b[0;32m     <a href='vscode-notebook-cell:/c%3A/Users/micha/OneDrive%20-%20The%20University%20of%20Texas%20at%20Austin/sehf_bt/data_cleaning.ipynb#ch0000003?line=11'>12</a>\u001b[0m     open_close_df \u001b[39m=\u001b[39m pd\u001b[39m.\u001b[39mconcat([open_df, close_df],ignore_index\u001b[39m=\u001b[39m\u001b[39mTrue\u001b[39;00m)\n\u001b[0;32m     <a href='vscode-notebook-cell:/c%3A/Users/micha/OneDrive%20-%20The%20University%20of%20Texas%20at%20Austin/sehf_bt/data_cleaning.ipynb#ch0000003?line=13'>14</a>\u001b[0m     \u001b[39mreturn\u001b[39;00m pd\u001b[39m.\u001b[39mSeries(date)\n\u001b[1;32m---> <a href='vscode-notebook-cell:/c%3A/Users/micha/OneDrive%20-%20The%20University%20of%20Texas%20at%20Austin/sehf_bt/data_cleaning.ipynb#ch0000003?line=15'>16</a>\u001b[0m clean_date(open_df)\n",
      "\u001b[1;31mNameError\u001b[0m: name 'open_df' is not defined"
     ]
    }
   ],
   "source": [
    "def clean_date(sheet_df):\n",
    "    \n",
    "    date_df = sheet_df.loc[sheet_df['Close'].isna()]\n",
    "    date = list(date_df['Time Interval'])\n",
    "\n",
    "    open_df = sheet_df[sheet_df['Time Interval'] == \"09:30 - 10:00\"]\n",
    "    open_df.reset_index()\n",
    "    open_df['date'] = pd.Series(date)\n",
    "    close_df = sheet_df[sheet_df['Time Interval'] == \"15:30 - 16:00\"]\n",
    "    close_df['date'] = pd.Series(date)\n",
    "    \n",
    "    open_close_df = pd.concat([open_df, close_df],ignore_index=True)\n",
    "    \n",
    "    return pd.Series(date)\n",
    "\n",
    "clean_date(open_df)"
   ]
  },
  {
   "cell_type": "code",
   "execution_count": 44,
   "metadata": {},
   "outputs": [
    {
     "ename": "NameError",
     "evalue": "name 'date' is not defined",
     "output_type": "error",
     "traceback": [
      "\u001b[1;31m---------------------------------------------------------------------------\u001b[0m",
      "\u001b[1;31mNameError\u001b[0m                                 Traceback (most recent call last)",
      "\u001b[1;32mc:\\Users\\micha\\OneDrive - The University of Texas at Austin\\sehf_bt\\data_cleaning.ipynb Cell 5'\u001b[0m in \u001b[0;36m<module>\u001b[1;34m\u001b[0m\n\u001b[1;32m----> <a href='vscode-notebook-cell:/c%3A/Users/micha/OneDrive%20-%20The%20University%20of%20Texas%20at%20Austin/sehf_bt/data_cleaning.ipynb#ch0000004?line=0'>1</a>\u001b[0m date\n",
      "\u001b[1;31mNameError\u001b[0m: name 'date' is not defined"
     ]
    }
   ],
   "source": []
  }
 ],
 "metadata": {
  "interpreter": {
   "hash": "54e72497fd64358f52832107e3cdfaf9f975ee2964d8f26ed128ba56fc24de73"
  },
  "kernelspec": {
   "display_name": "Python 3.8.8 ('base')",
   "language": "python",
   "name": "python3"
  },
  "language_info": {
   "codemirror_mode": {
    "name": "ipython",
    "version": 3
   },
   "file_extension": ".py",
   "mimetype": "text/x-python",
   "name": "python",
   "nbconvert_exporter": "python",
   "pygments_lexer": "ipython3",
   "version": "3.8.8"
  },
  "orig_nbformat": 4
 },
 "nbformat": 4,
 "nbformat_minor": 2
}
