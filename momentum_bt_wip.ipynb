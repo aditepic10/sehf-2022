{
 "cells": [
  {
   "cell_type": "code",
   "execution_count": 2,
   "metadata": {},
   "outputs": [],
   "source": [
    "import pandas as pd\n",
    "import numpy as np\n",
    "import scipy.stats as stats\n",
    "import math\n",
    "import time\n",
    "import datetime as datetime\n",
    "from tqdm import tqdm"
   ]
  },
  {
   "cell_type": "markdown",
   "metadata": {},
   "source": [
    "Make sure that if you change any of the code segments related to a type of backtest to recompile the code segment changed before running the back test"
   ]
  },
  {
   "cell_type": "code",
   "execution_count": 3,
   "metadata": {},
   "outputs": [],
   "source": [
    "uso_df = pd.read_csv('USO_date_cleaned.csv')\n",
    "datelist = pd.read_csv('datelist.csv')\n",
    "dates = []\n",
    "for i,val in datelist.iterrows():\n",
    "    dates.append(val[1])"
   ]
  },
  {
   "cell_type": "markdown",
   "metadata": {},
   "source": [
    "Will calculate stats for the results of a benchmark. The input list is a 2 column dataframe of dates and the date's corresponding returns"
   ]
  },
  {
   "cell_type": "code",
   "execution_count": 41,
   "metadata": {},
   "outputs": [],
   "source": [
    "def calculateStats(returns):\n",
    "    # Average daily arithmetic returns\n",
    "    avg_arth_daily_returns = returns['Returns'].mean()\n",
    "\n",
    "    # Average daily geometric returns\n",
    "    avg_geo_daily_returns = (stats.gmean(returns['Returns']))# Why doeos the final do ** 52 -1\n",
    "\n",
    "    # Average annual arithmetic returns\n",
    "    avg_arth_yearly_returns = (avg_arth_daily_returns - 1) * len(returns.index)/10\n",
    "\n",
    "    # Average annual geometric returns\n",
    "    \n",
    "    # Standard Deviation\n",
    "    std_daily_returns = returns.std()\n",
    "    # In next line, 10 comes from having 10 years in data set, finding average number of days in year\n",
    "    std_yearly_returns = returns.std()*math.sqrt(len(returns.index)/10)\n",
    "\n",
    "    sharpe = (avg_arth_yearly_returns - .02)/std_yearly_returns\n",
    "    print(\"Backtest Statistics\")\n",
    "    print(\"Average Arithmetic Daily Returns: {0:.3%}\".format(float(avg_arth_daily_returns - 1)))\n",
    "    print(\"Average Geometric Daily Returns: {0:.3%}\".format(float(avg_geo_daily_returns - 1)))\n",
    "    print(\"Average Arithmetic Yearly Returns: {0:.3%}\".format(float(avg_arth_yearly_returns)))\n",
    "    print(\"Standard Deviation of Daily Returns: {0:.3f}\".format(float(std_daily_returns)))\n",
    "    print(\"Standard Deviation of Yearly Returns: {0:.3f}\".format(float(std_yearly_returns)))\n",
    "    print(\"Sharpe ratio: {0:.3f}\".format(float(sharpe)))\n",
    "\n"
   ]
  },
  {
   "cell_type": "markdown",
   "metadata": {},
   "source": [
    "Parts of backtester for current day signal"
   ]
  },
  {
   "cell_type": "code",
   "execution_count": 30,
   "metadata": {},
   "outputs": [],
   "source": [
    "def oneDay(open_close, date, cash):\n",
    "    day = open_close[open_close['Date'] == date]\n",
    "    prev_cash = cash\n",
    "    rowiter = day.iterrows()\n",
    "    for (i, row1), (j, row2) in zip(rowiter, rowiter):\n",
    "        etfs_bought = 0\n",
    "        if row1['Open'] < row1['Close']: # Buy\n",
    "            # etfs_bought = cash/row1['Close']\n",
    "            # cash -= etfs_bought * row1['Close']\n",
    "            # etfs_sold_price = etfs_bought * row2['Close']\n",
    "            # cash += etfs_sold_price\n",
    "\n",
    "            etfs_sold = cash/row1['Close']\n",
    "            cash += etfs_sold * row1['Close']\n",
    "            etfs_bought_price = etfs_sold * row2['Close']\n",
    "            cash -= etfs_bought_price\n",
    "        else: # SELL\n",
    "            # etfs_sold = cash/row1['Close']\n",
    "            # cash += etfs_sold * row1['Close']\n",
    "            # etfs_bought_price = etfs_sold * row2['Close']\n",
    "            # cash -= etfs_bought_price\n",
    "\n",
    "            etfs_bought = cash/row1['Close']\n",
    "            cash -= etfs_bought * row1['Close']\n",
    "            etfs_sold_price = etfs_bought * row2['Close']\n",
    "            cash += etfs_sold_price\n",
    "    returns = cash/prev_cash        \n",
    "    return [cash, date, returns]"
   ]
  },
  {
   "cell_type": "markdown",
   "metadata": {},
   "source": [
    "Test for oneDay for any chosen day"
   ]
  },
  {
   "cell_type": "code",
   "execution_count": 31,
   "metadata": {},
   "outputs": [
    {
     "name": "stdout",
     "output_type": "stream",
     "text": [
      "[99.46808510638297, '2012-01-03', 0.9946808510638298]\n"
     ]
    }
   ],
   "source": [
    "# Set start and end time intervals, initial day for one time test\n",
    "start_interval = \"09:30 - 10:00\"\n",
    "end_interval = \"15:30 - 16:00\"\n",
    "day = \"2012-01-03\"\n",
    "# Setting up dataframe with desired intervals\n",
    "open = uso_df[uso_df['Time Interval'] == start_interval]\n",
    "close = uso_df[uso_df['Time Interval'] == end_interval]\n",
    "open_close = pd.concat([open, close])\n",
    "open_close = open_close.sort_values(by='Date')\n",
    "# Call oneDay\n",
    "day = oneDay(open_close, day, 100)\n",
    "print(day)"
   ]
  },
  {
   "cell_type": "markdown",
   "metadata": {},
   "source": [
    "Method moreDays performs oneDay for all days in the dataframe"
   ]
  },
  {
   "cell_type": "code",
   "execution_count": 32,
   "metadata": {},
   "outputs": [],
   "source": [
    "def moreDays(dates, open_close, start_interval, end_interval, cash):\n",
    "    starting_cash = cash\n",
    "    returns = pd.DataFrame(columns = ['Date', 'Returns'])\n",
    "    open = uso_df[uso_df['Time Interval'] == start_interval]\n",
    "    close = uso_df[uso_df['Time Interval'] == end_interval]\n",
    "    open_close = pd.concat([open, close])\n",
    "    open_close = open_close.sort_values(by='Date')\n",
    "    for day in tqdm(dates):\n",
    "        prev_cash = cash\n",
    "        output = oneDay(open_close, day, cash)\n",
    "        cash += output[0]\n",
    "        cash -= prev_cash\n",
    "        temp = pd.DataFrame([[output[1],output[2]]], columns = ['Date','Returns'])\n",
    "        returns = returns.append(temp, ignore_index=True)\n",
    "    print(\"Starting Cash: {0:.2f}\".format(float(starting_cash)))\n",
    "    print(\"Ending Cash: {0:.2f}\".format(float(cash)))\n",
    "    calculateStats(returns)\n",
    "    print(cash)"
   ]
  },
  {
   "cell_type": "markdown",
   "metadata": {},
   "source": [
    "Set up input for current day signal backtest"
   ]
  },
  {
   "cell_type": "code",
   "execution_count": 33,
   "metadata": {},
   "outputs": [
    {
     "name": "stderr",
     "output_type": "stream",
     "text": [
      "100%|██████████| 2552/2552 [00:06<00:00, 413.21it/s]"
     ]
    },
    {
     "name": "stdout",
     "output_type": "stream",
     "text": [
      "Starting Cash: 1000.00\n",
      "Ending Cash: 4741.95\n",
      "Backtest Statistics\n",
      "Average Arithmetic Daily Returns: 0.07%\n",
      "Average Geometric Daily Returns: 0.06%\n",
      "Average Arithmetic Yearly Returns: 18.35%\n",
      "Standard Deviation of Daily Returns: 0.24\n",
      "Sharpe ratio: 0.69\n",
      "4741.9497348657005\n",
      "None\n"
     ]
    },
    {
     "name": "stderr",
     "output_type": "stream",
     "text": [
      "\n"
     ]
    }
   ],
   "source": [
    "# Set start and end time intervals, initial day for one time test\n",
    "start_interval = \"09:30 - 10:00\"\n",
    "end_interval = \"15:30 - 16:00\"\n",
    "cash = 1000\n",
    "# Setting up dataframe with desired intervals\n",
    "final = moreDays(dates, uso_df, start_interval, end_interval, cash)\n",
    "print(final)"
   ]
  },
  {
   "cell_type": "markdown",
   "metadata": {},
   "source": [
    "Parts of the benchmark backtester"
   ]
  },
  {
   "cell_type": "code",
   "execution_count": 21,
   "metadata": {},
   "outputs": [
    {
     "name": "stdout",
     "output_type": "stream",
     "text": [
      "99.97481108312341\n"
     ]
    }
   ],
   "source": [
    "def oneDayBenchmark(open_close, date, cash):\n",
    "    day = open_close[open_close['Date'] == date]\n",
    "    \n",
    "    rowiter = day.iterrows()\n",
    "    for (i, row1) in rowiter:\n",
    "        etfs_bought = cash/row1['Open']\n",
    "        cash -= etfs_bought * row1['Open']\n",
    "        etfs_sold_price = etfs_bought * row1['Close']\n",
    "        cash += etfs_sold_price\n",
    "\n",
    "    return cash"
   ]
  },
  {
   "cell_type": "markdown",
   "metadata": {},
   "source": [
    "Test the oneDayBenchmark on any chosen day"
   ]
  },
  {
   "cell_type": "code",
   "execution_count": 95,
   "metadata": {},
   "outputs": [
    {
     "name": "stdout",
     "output_type": "stream",
     "text": [
      "99.97481108312341\n"
     ]
    }
   ],
   "source": [
    "interval = \"15:30 - 16:00\"\n",
    "day = \"2012-01-03\"\n",
    "# Setting up dataframe with desired intervals\n",
    "open_close = uso_df[uso_df['Time Interval'] == interval]\n",
    "open_close = open_close.sort_values(by = 'Date')\n",
    "final = oneDayBenchmark(open_close, day, 100)\n",
    "print(final)"
   ]
  },
  {
   "cell_type": "markdown",
   "metadata": {},
   "source": [
    "Method moreDays to run oneDayBenchmark on every day"
   ]
  },
  {
   "cell_type": "code",
   "execution_count": 83,
   "metadata": {},
   "outputs": [],
   "source": [
    "def moreDaysBenchmark(dates, uso_df, interval, cash):\n",
    "    open_close = uso_df[uso_df['Time Interval'] == interval]\n",
    "    open_close = open_close.sort_values(by = 'Date')\n",
    "    for day in tqdm(dates):\n",
    "        prev_cash = cash\n",
    "        cash += oneDayBenchmark(open_close, day, cash)\n",
    "        cash -= prev_cash\n",
    "    return cash"
   ]
  },
  {
   "cell_type": "markdown",
   "metadata": {},
   "source": [
    "Set up input for benchmark backtest"
   ]
  },
  {
   "cell_type": "code",
   "execution_count": 84,
   "metadata": {},
   "outputs": [
    {
     "name": "stderr",
     "output_type": "stream",
     "text": [
      "100%|██████████| 2552/2552 [00:02<00:00, 1012.70it/s]"
     ]
    },
    {
     "name": "stdout",
     "output_type": "stream",
     "text": [
      "1272.67320730087\n"
     ]
    },
    {
     "name": "stderr",
     "output_type": "stream",
     "text": [
      "\n"
     ]
    }
   ],
   "source": [
    "# Set up interval here\n",
    "interval = \"15:30 - 16:00\"\n",
    "\n",
    "# Setting up dataframe with desired intervals\n",
    "final = moreDaysBenchmark(dates, uso_df, interval, cash)\n",
    "print(final)"
   ]
  },
  {
   "cell_type": "markdown",
   "metadata": {},
   "source": [
    "Parts of backtester for today morning close/previous close signal. Our signal is the log(current day 10am close/previous day 4pm close), where if this value is greater than or equal to 0, you go long at 3:30pm today and sell at 4:00pm, and otherwise, you go short. "
   ]
  },
  {
   "cell_type": "code",
   "execution_count": 8,
   "metadata": {},
   "outputs": [],
   "source": [
    "# oneDay2 accepts a filtered dataframe open_close containing only rows with intervals equal to start/end intervals,\n",
    "# i1 and i2 are indices for starting the backtest (do 1, 4 to perform entire backtest), and the amount of cash to \n",
    "# be used in the trade. Does not accept date cuz i1, i2, are used to access rows. Make sure i1 is odd or this fails\n",
    "def oneDay2(open_close, i1, i2, cash):\n",
    "    day = open_close.iloc[i1:i2]\n",
    "    prev_cash = cash\n",
    "    rowiter = day.iterrows()\n",
    "    for (i, row1), (j, row2), (k, row3) in zip(rowiter, rowiter, rowiter):\n",
    "        etfs_bought = 0\n",
    "\n",
    "        # Create Signal\n",
    "        p1 = row2['Close']\n",
    "        p0 = row1['Close']\n",
    "        r1 = math.log((p1/p0), 10)\n",
    "\n",
    "        if r1 >= 0:\n",
    "            # Long\n",
    "            etfs_bought = int(cash/row3['Open'])\n",
    "            cash -= etfs_bought * row3['Open']\n",
    "            etfs_sold_price = etfs_bought * row3['Close']\n",
    "            cash += etfs_sold_price\n",
    "        else:\n",
    "            # Short\n",
    "            etfs_sold = int(cash/row3['Open'])\n",
    "            cash += etfs_sold * row3['Open']\n",
    "            etfs_bought_price = etfs_sold * row3['Close']\n",
    "            cash -= etfs_bought_price\n",
    "    \n",
    "    percentReturns = (cash)/prev_cash\n",
    "    return [cash, row3['Date'], percentReturns]"
   ]
  },
  {
   "cell_type": "markdown",
   "metadata": {},
   "source": [
    "Test oneDay2 for any chosen day (chosen day will be used for previous day close, day after chosen day used for 10 am close and 3:30pm-4:00pm trade). Day chosen is picked by changing i1-i4 value"
   ]
  },
  {
   "cell_type": "code",
   "execution_count": 7,
   "metadata": {},
   "outputs": [
    {
     "data": {
      "text/plain": [
       "1000.0"
      ]
     },
     "execution_count": 7,
     "metadata": {},
     "output_type": "execute_result"
    }
   ],
   "source": [
    "# Set desired Intervals\n",
    "early_interval = \"09:30 - 10:00\" # On current day\n",
    "late_interval = \"15:30 - 16:00\" # On previous day\n",
    "\n",
    "# Set up dataframe with desired inputs\n",
    "open = uso_df[uso_df['Time Interval'] == early_interval]\n",
    "close = uso_df[uso_df['Time Interval'] == late_interval]\n",
    "open_close = pd.concat([open, close])\n",
    "open_close = open_close.sort_index()\n",
    "open_close = open_close.sort_values(by='Date')\n",
    "open_close = open_close.drop(['Unnamed: 0', 'index'], axis = 1)\n",
    "open_close = open_close.reset_index(drop = True)\n",
    "\n",
    "# Run backtest for oneDay2\n",
    "i1 = 1\n",
    "i2 = 4\n",
    "day = oneDay2(open_close, i1,i2, 1000)[0]\n",
    "day"
   ]
  },
  {
   "cell_type": "markdown",
   "metadata": {},
   "source": [
    "moreDays2 will perform oneDay2 for all days "
   ]
  },
  {
   "cell_type": "code",
   "execution_count": 10,
   "metadata": {},
   "outputs": [],
   "source": [
    "def moreDays2(uso_df, dates, i1, i2, start_interval, end_interval, cash):\n",
    "    returns = pd.DataFrame(columns=['Date','Returns'])\n",
    "    starting_cash = cash\n",
    "    open = uso_df[uso_df['Time Interval'] == start_interval]\n",
    "    close = uso_df[uso_df['Time Interval'] == end_interval]\n",
    "    open_close = pd.concat([open, close])\n",
    "    open_close = open_close.sort_index()\n",
    "    open_close = open_close.sort_values(by='Date')\n",
    "    open_close = open_close.drop(['Unnamed: 0', 'index'], axis = 1)\n",
    "    open_close = open_close.reset_index(drop = True)\n",
    "    while i2 < len(open_close.index):\n",
    "        prev_cash = cash\n",
    "        output = oneDay2(open_close, i1, i2, cash)\n",
    "        cash += output[0]\n",
    "        temp = pd.DataFrame([[output[1],output[2]]], columns = ['Date','Returns'])\n",
    "        returns = returns.append(temp, ignore_index=True)\n",
    "        cash -= prev_cash\n",
    "        i1 += 2\n",
    "        i2 += 2\n",
    "    returns.to_excel('daily_returns.xlsx')\n",
    "    print(\"Starting Cash: {0:.2f}\".format(float(starting_cash)))\n",
    "    print(\"Ending Cash: {0:.2f}\".format(float(cash)))\n",
    "    calculateStats(returns)"
   ]
  },
  {
   "cell_type": "markdown",
   "metadata": {},
   "source": [
    "Set up input for 10amClose/4pm previous Day close signal backtest"
   ]
  },
  {
   "cell_type": "code",
   "execution_count": 42,
   "metadata": {},
   "outputs": [
    {
     "name": "stdout",
     "output_type": "stream",
     "text": [
      "Starting Cash: 1000.00\n",
      "Ending Cash: 1755.41\n",
      "Backtest Statistics\n",
      "Average Arithmetic Daily Returns: 0.023%\n",
      "Average Geometric Daily Returns: 0.022%\n",
      "Average Arithmetic Yearly Returns: 5.772%\n",
      "Standard Deviation of Daily Returns: 0.003\n",
      "Standard Deviation of Yearly Returns: 0.054\n",
      "Sharpe ratio: 0.700\n"
     ]
    }
   ],
   "source": [
    "# Set up intputs for backtester\n",
    "start_interval = \"09:30 - 10:00\"\n",
    "end_interval = \"15:30 - 16:00\"\n",
    "cash = 1000\n",
    "i1 = 1\n",
    "i2 = 4\n",
    "#\n",
    "moreDays2(uso_df, dates, i1, i2, start_interval, end_interval, cash)"
   ]
  }
 ],
 "metadata": {
  "interpreter": {
   "hash": "54e72497fd64358f52832107e3cdfaf9f975ee2964d8f26ed128ba56fc24de73"
  },
  "kernelspec": {
   "display_name": "Python 3.8.8 ('base')",
   "language": "python",
   "name": "python3"
  },
  "language_info": {
   "codemirror_mode": {
    "name": "ipython",
    "version": 3
   },
   "file_extension": ".py",
   "mimetype": "text/x-python",
   "name": "python",
   "nbconvert_exporter": "python",
   "pygments_lexer": "ipython3",
   "version": "3.9.1"
  },
  "orig_nbformat": 4
 },
 "nbformat": 4,
 "nbformat_minor": 2
}
