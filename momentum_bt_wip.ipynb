{
 "cells": [
  {
   "cell_type": "code",
   "execution_count": 4,
   "metadata": {},
   "outputs": [],
   "source": [
    "import pandas as pd\n",
    "import numpy as np\n",
    "import scipy.stats as stats\n",
    "import math\n",
    "import time\n",
    "import datetime as datetime\n",
    "from tqdm import tqdm"
   ]
  },
  {
   "cell_type": "code",
   "execution_count": 5,
   "metadata": {},
   "outputs": [],
   "source": [
    "uso_df = pd.read_csv('USO_date_cleaned.csv')\n",
    "datelist = pd.read_csv('datelist.csv')\n",
    "dates = []\n",
    "for i,val in datelist.iterrows():\n",
    "    dates.append(val[1])"
   ]
  },
  {
   "cell_type": "code",
   "execution_count": 6,
   "metadata": {},
   "outputs": [],
   "source": [
    "def oneDay(open_close, date, cash):\n",
    "    # OPTIMIZE\n",
    "    day = open_close[open_close['Date'] == date]\n",
    "    \n",
    "    rowiter = day.iterrows()\n",
    "    for (i, row1), (j, row2) in zip(rowiter, rowiter):\n",
    "        etfs_bought = 0\n",
    "        if row1['Open'] < row1['Close']:\n",
    "            etfs_bought = cash/row1['Close']\n",
    "            cash -= etfs_bought * row1['Close']\n",
    "            etfs_sold_price = etfs_bought * row2['Close']\n",
    "            cash += etfs_sold_price\n",
    "            # BUY FUNCTION\n",
    "        else:\n",
    "            etfs_sold = cash/row1['Close']\n",
    "            cash += etfs_sold * row1['Close']\n",
    "            etfs_bought_price = etfs_sold * row2['Close']\n",
    "            cash -= etfs_bought_price\n",
    "    #print(\"Bought: \" + str(row1['Open'] < row1['Close']))\n",
    "    return cash"
   ]
  },
  {
   "cell_type": "markdown",
   "metadata": {},
   "source": [
    "Test for one day same day signal"
   ]
  },
  {
   "cell_type": "code",
   "execution_count": 7,
   "metadata": {},
   "outputs": [
    {
     "data": {
      "text/plain": [
       "100.53191489361703"
      ]
     },
     "execution_count": 7,
     "metadata": {},
     "output_type": "execute_result"
    }
   ],
   "source": [
    "# Set start and end time intervals, initial day for one time test\n",
    "start_interval = \"09:30 - 10:00\"\n",
    "end_interval = \"15:30 - 16:00\"\n",
    "day = \"2012-01-03\"\n",
    "# Setting up dataframe with desired intervals\n",
    "open = uso_df[uso_df['Time Interval'] == start_interval]\n",
    "close = uso_df[uso_df['Time Interval'] == end_interval]\n",
    "open_close = pd.concat([open, close])\n",
    "open_close = open_close.sort_values(by='Date')\n",
    "#\n",
    "day = oneDay(open_close, day, 100)\n",
    "day"
   ]
  },
  {
   "cell_type": "markdown",
   "metadata": {},
   "source": [
    "Will perform oneDay for all days"
   ]
  },
  {
   "cell_type": "code",
   "execution_count": 10,
   "metadata": {},
   "outputs": [],
   "source": [
    "def moreDays(dates, open_close):\n",
    "    cash = 100\n",
    "    for day in tqdm(dates):\n",
    "        prev_cash = cash\n",
    "        cash += oneDay(open_close, day, \"09:30 - 10:00\", \"15:30 - 16:00\", cash)\n",
    "        cash -= prev_cash\n",
    "    return cash"
   ]
  },
  {
   "cell_type": "markdown",
   "metadata": {},
   "source": [
    "USE THIS IF YOU WANT TO TEST BASED ON CURRENT DAY SIGNAL"
   ]
  },
  {
   "cell_type": "code",
   "execution_count": 19,
   "metadata": {},
   "outputs": [
    {
     "name": "stderr",
     "output_type": "stream",
     "text": [
      "100%|██████████| 2552/2552 [00:03<00:00, 830.73it/s]"
     ]
    },
    {
     "name": "stdout",
     "output_type": "stream",
     "text": [
      "12.001626909365076\n"
     ]
    },
    {
     "name": "stderr",
     "output_type": "stream",
     "text": [
      "\n"
     ]
    }
   ],
   "source": [
    "# Set start and end time intervals, initial day for one time test\n",
    "start_interval = \"09:30 - 10:00\"\n",
    "end_interval = \"15:30 - 16:00\"\n",
    "\n",
    "# Setting up dataframe with desired intervals\n",
    "open = uso_df[uso_df['Time Interval'] == start_interval]\n",
    "close = uso_df[uso_df['Time Interval'] == end_interval]\n",
    "open_close = pd.concat([open, close])\n",
    "open_close = open_close.sort_values(by='Date')\n",
    "final = moreDays(dates, open_close)\n",
    "print(final)"
   ]
  },
  {
   "cell_type": "markdown",
   "metadata": {},
   "source": [
    "BENCHMARK BACK TESTER"
   ]
  },
  {
   "cell_type": "code",
   "execution_count": 21,
   "metadata": {},
   "outputs": [
    {
     "name": "stdout",
     "output_type": "stream",
     "text": [
      "99.97481108312341\n"
     ]
    }
   ],
   "source": [
    "def oneDayBenchmark(open_close, date, cash):\n",
    "    day = open_close[open_close['Date'] == date]\n",
    "    \n",
    "    rowiter = day.iterrows()\n",
    "    for (i, row1) in rowiter:\n",
    "        etfs_bought = cash/row1['Open']\n",
    "        cash -= etfs_bought * row1['Open']\n",
    "        etfs_sold_price = etfs_bought * row1['Close']\n",
    "        cash += etfs_sold_price\n",
    "\n",
    "    return cash"
   ]
  },
  {
   "cell_type": "markdown",
   "metadata": {},
   "source": [
    "Test the oneDayBenchmark on any one day"
   ]
  },
  {
   "cell_type": "code",
   "execution_count": 31,
   "metadata": {},
   "outputs": [
    {
     "name": "stdout",
     "output_type": "stream",
     "text": [
      "       Unnamed: 0  index  Time Interval   Close  Net Chg     Open      High  \\\n",
      "12             12     14  15:30 - 16:00  317.52  -0.0800  317.600  318.0000   \n",
      "25             25     28  15:30 - 16:00  318.16  -0.0800  318.160  318.3200   \n",
      "38             38     42  15:30 - 16:00  313.36  -0.5600  313.920  313.9200   \n",
      "51             51     56  15:30 - 16:00  313.76   0.4800  313.352  313.9200   \n",
      "64             64     70  15:30 - 16:00  312.64   0.5600  312.080  312.6400   \n",
      "...           ...    ...            ...     ...      ...      ...       ...   \n",
      "32824       33040    476  15:30 - 16:00   64.74   0.0300   64.710   64.8300   \n",
      "32837       33053    490  15:30 - 16:00   65.53  -0.1508   65.670   65.7900   \n",
      "32850       33066    504  15:30 - 16:00   66.24   0.1800   66.050   66.2750   \n",
      "32863       33079    518  15:30 - 16:00   66.34   0.2100   66.120   66.4499   \n",
      "32876       33092    532  15:30 - 16:00   65.80   0.0700   65.730   65.8500   \n",
      "\n",
      "          Low  Tick Count    Volume        Date  Weekday  \n",
      "12     317.44      3879.0  258519.0  2012-01-03        1  \n",
      "25     318.00      1719.0   61791.0  2012-01-04        2  \n",
      "38     313.36      2805.0  129892.0  2012-01-05        3  \n",
      "51     313.12      3124.0  130219.0  2012-01-06        4  \n",
      "64     312.00      1950.0   77739.0  2012-01-09        0  \n",
      "...       ...         ...       ...         ...      ...  \n",
      "32824   64.58      3848.0  766070.0  2022-02-18        4  \n",
      "32837   65.49      2537.0  595098.0  2022-02-22        1  \n",
      "32850   65.95      2415.0  483634.0  2022-02-23        2  \n",
      "32863   65.97      4702.0  893044.0  2022-02-24        3  \n",
      "32876   65.58      2487.0  506784.0  2022-02-25        4  \n",
      "\n",
      "[2529 rows x 12 columns]\n",
      "99.97481108312341\n"
     ]
    }
   ],
   "source": [
    "interval = \"15:30 - 16:00\"\n",
    "day = \"2012-01-03\"\n",
    "# Setting up dataframe with desired intervals\n",
    "open_close = uso_df[uso_df['Time Interval'] == interval]\n",
    "open_close = open_close.sort_values(by = 'Date')\n",
    "final = oneDayBenchmark(open_close, day, 100)\n",
    "print(final)"
   ]
  },
  {
   "cell_type": "markdown",
   "metadata": {},
   "source": [
    "Method moreDays to test benchmark on every day"
   ]
  },
  {
   "cell_type": "code",
   "execution_count": 23,
   "metadata": {},
   "outputs": [],
   "source": [
    "def moreDaysBenchmark(dates, open_close):\n",
    "    cash = 100\n",
    "    for day in tqdm(dates):\n",
    "        prev_cash = cash\n",
    "        cash += oneDayBenchmark(open_close, day, cash)\n",
    "        cash -= prev_cash\n",
    "    return cash"
   ]
  },
  {
   "cell_type": "code",
   "execution_count": 26,
   "metadata": {},
   "outputs": [
    {
     "name": "stderr",
     "output_type": "stream",
     "text": [
      "100%|██████████| 2552/2552 [00:02<00:00, 1054.54it/s]"
     ]
    },
    {
     "name": "stdout",
     "output_type": "stream",
     "text": [
      "127.26732073008941\n"
     ]
    },
    {
     "name": "stderr",
     "output_type": "stream",
     "text": [
      "\n"
     ]
    }
   ],
   "source": [
    "# Set up interval here\n",
    "interval = \"15:30 - 16:00\"\n",
    "\n",
    "# Setting up dataframe with desired intervals\n",
    "open_close = uso_df[uso_df['Time Interval'] == interval]\n",
    "open_close = open_close.sort_values(by = 'Date')\n",
    "final = moreDaysBenchmark(dates, open_close)\n",
    "print(final)"
   ]
  },
  {
   "cell_type": "code",
   "execution_count": 66,
   "metadata": {},
   "outputs": [],
   "source": [
    "start_interval = \"09:30 - 10:00\"\n",
    "end_interval = \"15:30 - 16:00\"\n",
    "# cash = 100\n",
    "day = \"2012-01-30\"\n",
    "\n",
    "def oneDay2(open_close, i1, i2, cash):\n",
    "    # OPTIMIZE\n",
    "    day = open_close.iloc[i1:i2]\n",
    "\n",
    "    rowiter = day.iterrows()\n",
    "    for (i, row1), (j, row2), (k, row3) in zip(rowiter, rowiter, rowiter):\n",
    "        etfs_bought = 0\n",
    "        p1 = row2['Close']\n",
    "        p0 = row1['Close']\n",
    "        r1 = math.log((p1/p0), 10)\n",
    "        if r1 >= 0:\n",
    "            etfs_bought = int(cash/row3['Open'])\n",
    "            cash -= etfs_bought * row3['Open']\n",
    "            etfs_sold_price = etfs_bought * row3['Close']\n",
    "            cash += etfs_sold_price\n",
    "            # BUY FUNCTION\n",
    "        else:\n",
    "            etfs_sold = int(cash/row3['Open'])\n",
    "            cash += etfs_sold * row3['Open']\n",
    "            etfs_bought_price = etfs_sold * row3['Close']\n",
    "            cash -= etfs_bought_price\n",
    "    #print(\"Bought: \" + str(row1['Open'] < row1['Close']))\n",
    "\n",
    "    return cash"
   ]
  },
  {
   "cell_type": "code",
   "execution_count": 67,
   "metadata": {},
   "outputs": [
    {
     "data": {
      "text/plain": [
       "1000.0"
      ]
     },
     "execution_count": 67,
     "metadata": {},
     "output_type": "execute_result"
    }
   ],
   "source": [
    "# Set desired Intervals\n",
    "early_interval = \"09:30 - 10:00\" # On current day\n",
    "late_interval = \"15:30 - 16:00\" # On previous day\n",
    "\n",
    "#\n",
    "open = uso_df[uso_df['Time Interval'] == start_interval]\n",
    "close = uso_df[uso_df['Time Interval'] == end_interval]\n",
    "open_close = pd.concat([open, close])\n",
    "open_close = open_close.sort_index()\n",
    "open_close = open_close.sort_values(by='Date')\n",
    "open_close = open_close.drop(['Unnamed: 0', 'index'], axis = 1)\n",
    "open_close = open_close.reset_index(drop = True)\n",
    "\n",
    "i1 = 1\n",
    "i2 = 4\n",
    "day = oneDay2(open_close, i1,i2, 1000)\n",
    "day"
   ]
  },
  {
   "cell_type": "code",
   "execution_count": 68,
   "metadata": {},
   "outputs": [
    {
     "name": "stdout",
     "output_type": "stream",
     "text": [
      "1753.5855999999794\n"
     ]
    }
   ],
   "source": [
    "i1 = 1\n",
    "i2 = 4\n",
    "cash=1000\n",
    "while i2 < 5087:\n",
    "    prev_cash = cash\n",
    "    cash += oneDay2(open_close, i1, i2, cash)\n",
    "    cash -= prev_cash\n",
    "    i1 += 2\n",
    "    i2 += 2\n",
    "\n",
    "\n",
    "print(cash)"
   ]
  },
  {
   "cell_type": "code",
   "execution_count": null,
   "metadata": {},
   "outputs": [],
   "source": []
  }
 ],
 "metadata": {
  "interpreter": {
   "hash": "54e72497fd64358f52832107e3cdfaf9f975ee2964d8f26ed128ba56fc24de73"
  },
  "kernelspec": {
   "display_name": "Python 3.8.8 ('base')",
   "language": "python",
   "name": "python3"
  },
  "language_info": {
   "codemirror_mode": {
    "name": "ipython",
    "version": 3
   },
   "file_extension": ".py",
   "mimetype": "text/x-python",
   "name": "python",
   "nbconvert_exporter": "python",
   "pygments_lexer": "ipython3",
   "version": "3.9.1"
  },
  "orig_nbformat": 4
 },
 "nbformat": 4,
 "nbformat_minor": 2
}
